{
 "cells": [
  {
   "cell_type": "markdown",
   "id": "f6682710-02b1-4cc7-be93-be54fdc3fc51",
   "metadata": {},
   "source": [
    "# THIS NOTEBOOK CONTAINS THE CODE FOR THE PROJECT"
   ]
  },
  {
   "cell_type": "markdown",
   "id": "e3c72381-d42e-43dc-914d-f2017e09bcdd",
   "metadata": {},
   "source": [
    "## GENERAL IMPORTS"
   ]
  },
  {
   "cell_type": "code",
   "execution_count": 3,
   "id": "8d1af30a-cad4-44d3-915f-12c26fdf6d48",
   "metadata": {},
   "outputs": [],
   "source": [
    "import pandas as pd\n",
    "import numpy as np\n",
    "import matplotlib.pyplot as plt\n",
    "import seaborn as sns\n",
    "\n",
    "%matplotlib inline\n",
    "\n",
    "sns.set_style('darkgrid')\n",
    "plt.style.use('dark_background')"
   ]
  },
  {
   "cell_type": "code",
   "execution_count": 4,
   "id": "00cb54a0-eb61-48d0-b0b5-90e510651e83",
   "metadata": {},
   "outputs": [],
   "source": [
    "from sklearn.metrics import roc_curve, auc, roc_auc_score\n",
    "from sklearn.model_selection import train_test_split\n",
    "from sklearn.linear_model import LogisticRegression\n",
    "from sklearn.preprocessing import StandardScaler"
   ]
  },
  {
   "cell_type": "markdown",
   "id": "32beb737-3c10-4dba-9b8d-381da576ff77",
   "metadata": {},
   "source": [
    "# READING DATA"
   ]
  },
  {
   "cell_type": "code",
   "execution_count": 6,
   "id": "1aa825ee-05db-4dd0-a55e-816ee108cbdc",
   "metadata": {},
   "outputs": [],
   "source": [
    "df = pd.read_csv('Dataset/training_set_features.csv')\n",
    "target = pd.read_csv('Dataset/test_set_features.csv')\n",
    "to_drop = ['census_msa', 'employment_industry', 'employment_occupation', 'rent_or_own', 'behavioral_outside_home']\n",
    "df.drop(to_drop, axis=1, inplace=True)\n",
    "target.drop(to_drop, axis=1, inplace=True)"
   ]
  },
  {
   "cell_type": "markdown",
   "id": "acc5a007-6d70-4bc4-9c26-44432ed9e9ce",
   "metadata": {},
   "source": [
    "### FEATURE ENGINEERING"
   ]
  },
  {
   "cell_type": "code",
   "execution_count": 8,
   "id": "6f5b9014-6685-4d8e-8c59-5aabb984a032",
   "metadata": {},
   "outputs": [],
   "source": [
    "# CONVERTING OBJECTS TO NOMINAL INPUTS\n",
    "edu_map = {\"< 12 Years\":1,\n",
    "           \"12 Years\":2,\n",
    "           \"Some College\":3,\n",
    "           \"College Graduate\":4}\n",
    "\n",
    "age_map = {\"35 - 44 Years\" : 2,\n",
    "           \"18 - 34 Years\" : 1,\n",
    "           \"45 - 54 Years\" : 3,\n",
    "           \"55 - 64 Years\" : 4,\n",
    "           \"65+ Years\": 5}\n",
    "\n",
    "race_map = {\"White\":4,\n",
    "            \"Black\":3,\n",
    "            \"Hispanic\":2,\n",
    "            \"Other or Multiple\":1}\n",
    "\n",
    "inc_map = {\"<= $75,000, Above Poverty\" : 3,\n",
    "           \"> $75,000\":2,\n",
    "           \"Below Poverty\":1}\n",
    "\n",
    "emp_map = {\"Employed\":3,\n",
    "           \"Not in Labor Force\":2,\n",
    "           \"Unemployed\":1}\n",
    "\n",
    "hhs_map = {\"dqpwygqj\":1,\n",
    "           \"atmpeygn\":2,\n",
    "           \"lrircsnp\":3,\n",
    "           \"mlyzmhmf\":4,\n",
    "           \"bhuqouqj\":5,\n",
    "           \"kbazzjca\":6,\n",
    "           \"oxchjgsf\":7,\n",
    "           \"qufhixun\":8,\n",
    "           \"fpwskwrf\":9,\n",
    "           \"lzgpxyit\":10}"
   ]
  },
  {
   "cell_type": "code",
   "execution_count": 9,
   "id": "a0b7d7d4-ec7d-4961-ad93-95f40080a78d",
   "metadata": {},
   "outputs": [],
   "source": [
    "df.education, target.education = df.education.replace(edu_map), target.education.replace(edu_map)\n",
    "df.age_group, target.age_group = df.age_group.replace(age_map), target.age_group.replace(age_map)\n",
    "df.race, target.race = df.race.replace(race_map), target.race.replace(race_map)\n",
    "df.income_poverty, target.income_poverty = df.income_poverty.replace(inc_map), target.income_poverty.replace(inc_map)\n",
    "df.employment_status, target.employment_status = df.employment_status.replace(emp_map), target.employment_status.replace(emp_map)\n",
    "df.hhs_geo_region, target.hhs_geo_region = df.hhs_geo_region.replace(hhs_map), target.hhs_geo_region.replace(hhs_map)"
   ]
  },
  {
   "cell_type": "code",
   "execution_count": 10,
   "id": "dcf4ea7c-c33d-427c-8c39-25ceb9d06305",
   "metadata": {},
   "outputs": [],
   "source": [
    "# ONE-HOT ENCODING\n",
    "male_series_df = pd.get_dummies(df.sex, drop_first=True).astype('int32')\n",
    "male_series_target = pd.get_dummies(target.sex, drop_first=True).astype('int32')\n",
    "df['Male'] = male_series_df\n",
    "target['Male'] = male_series_target\n",
    "df.drop('sex', axis=1, inplace=True)\n",
    "target.drop('sex', axis=1, inplace=True)\n",
    "\n",
    "marital_series_df = pd.get_dummies(df.marital_status, drop_first=True).astype('int32')\n",
    "marital_series_target = pd.get_dummies(target.marital_status, drop_first=True).astype('int32')\n",
    "df['Marital_Status'] = marital_series_df\n",
    "target['Marital_Status'] = marital_series_target\n",
    "df.drop('marital_status', axis=1, inplace=True)\n",
    "target.drop('marital_status', axis=1, inplace=True)"
   ]
  },
  {
   "cell_type": "code",
   "execution_count": 11,
   "id": "7a11431c-6ef8-4bbb-b533-834c598f0a56",
   "metadata": {},
   "outputs": [],
   "source": [
    "# FILLING NULL VALUES WITH MODE\n",
    "null_fill = {\"behavioral_outside_home\" : 0,\n",
    "\"behavioral_antiviral_meds\" : 0,\n",
    "\"opinion_xyz_vacc_effective\" : 4,\n",
    "\"behavioral_face_mask\" : 0,\n",
    "\"behavioral_wash_hands\" : 1,\n",
    "\"behavioral_large_gatherings\" : 0,\n",
    "\"opinion_seas_risk\": 2,\n",
    "\"opinion_seas_sick_from_vacc\" : 1,\n",
    "\"behavioral_avoidance\" : 1,\n",
    "\"opinion_xyz_sick_from_vacc\" : 2,\n",
    "\"doctor_recc_xyz\" : 0,\n",
    "\"opinion_seas_vacc_effective\" : 4,\n",
    "\"opinion_xyz_risk\" : 2,\n",
    "\"doctor_recc_seasonal\" : 0,\n",
    " \"xyz_concern\" : 2, \n",
    "\"xyz_knowledge\" : 1, \n",
    "\"chronic_med_condition\" : 0,\n",
    "\"behavioral_touch_face\" : 1,\n",
    "\"child_under_6_months\" : 0,\n",
    "\"employment_status\" : 3,\n",
    "\"health_insurance\" : 1,\n",
    "\"health_worker\" : 0,\n",
    "\"household_adults\" : 1,\n",
    "\"household_children\" : 0,\n",
    "\"income_poverty\" : 3,\n",
    "\"education\" : 4}\n",
    "\n",
    "df.fillna(null_fill, inplace=True)\n",
    "target.fillna(null_fill, inplace=True)"
   ]
  },
  {
   "cell_type": "code",
   "execution_count": 12,
   "id": "a4de56e5-e1a6-4689-8d54-7276168a0007",
   "metadata": {},
   "outputs": [],
   "source": [
    "df.set_index('respondent_id', inplace=True)\n",
    "target.set_index('respondent_id', inplace=True)\n",
    "uniqueFeature_seas = [\"opinion_seas_risk\", \"opinion_seas_sick_from_vacc\", \"opinion_seas_vacc_effective\", \"doctor_recc_seasonal\"]\n",
    "uniqueFeature_xyz = [\"opinion_xyz_vacc_effective\", \"opinion_xyz_sick_from_vacc\", \"doctor_recc_xyz\", \"opinion_xyz_risk\", \"xyz_concern\",\n",
    "                     \"xyz_knowledge\"]"
   ]
  },
  {
   "cell_type": "code",
   "execution_count": 13,
   "id": "fc8310a7-1d60-4db3-87bf-bbd2756be1ca",
   "metadata": {},
   "outputs": [],
   "source": [
    "# SEPARATING FEATURES FOR XYZ AND SEASONAL VACCINE\n",
    "df_xyz = df.drop(uniqueFeature_seas, axis=1)\n",
    "target_xyz = target.drop(uniqueFeature_seas, axis=1)\n",
    "df_seas = df.drop(uniqueFeature_xyz, axis=1)\n",
    "target_seas = target.drop(uniqueFeature_xyz, axis=1)"
   ]
  },
  {
   "cell_type": "markdown",
   "id": "0bfcee84-109b-4496-bb41-67d3763e0c42",
   "metadata": {},
   "source": [
    "## READ TRAINING LABELS"
   ]
  },
  {
   "cell_type": "code",
   "execution_count": 15,
   "id": "841f1146-1e8f-435e-92fa-8c3640bc701b",
   "metadata": {},
   "outputs": [],
   "source": [
    "y_label = pd.read_csv('Dataset/training_set_labels.csv')\n",
    "y_label_xyz = y_label.xyz_vaccine\n",
    "y_label_seas = y_label.seasonal_vaccine"
   ]
  },
  {
   "cell_type": "markdown",
   "id": "4f518dda-425f-4bd2-ba35-a4689dd407b0",
   "metadata": {},
   "source": [
    "# TESTING AUC SCORE"
   ]
  },
  {
   "cell_type": "code",
   "execution_count": 17,
   "id": "8a24c093-e890-474a-b402-f61a78e15b9e",
   "metadata": {},
   "outputs": [
    {
     "data": {
      "text/plain": [
       "0.8356067104833096"
      ]
     },
     "execution_count": 17,
     "metadata": {},
     "output_type": "execute_result"
    }
   ],
   "source": [
    "XYZ_ACCURACY = 0.8361697299750397\n",
    "XYZ_AUC_SCORE = 0.8259381655272489\n",
    "\n",
    "SEAS_ACCURACY = 0.7720671658724756\n",
    "SEAS_AUC_SCORE = 0.8452752554393703\n",
    "\n",
    "FINAL_SCORE = (XYZ_AUC_SCORE + SEAS_AUC_SCORE) / 2\n",
    "FINAL_SCORE"
   ]
  },
  {
   "cell_type": "code",
   "execution_count": 18,
   "id": "945c7b11-b008-4235-8b0e-8f9a7974731e",
   "metadata": {},
   "outputs": [
    {
     "data": {
      "text/html": [
       "<style>#sk-container-id-1 {color: black;background-color: white;}#sk-container-id-1 pre{padding: 0;}#sk-container-id-1 div.sk-toggleable {background-color: white;}#sk-container-id-1 label.sk-toggleable__label {cursor: pointer;display: block;width: 100%;margin-bottom: 0;padding: 0.3em;box-sizing: border-box;text-align: center;}#sk-container-id-1 label.sk-toggleable__label-arrow:before {content: \"▸\";float: left;margin-right: 0.25em;color: #696969;}#sk-container-id-1 label.sk-toggleable__label-arrow:hover:before {color: black;}#sk-container-id-1 div.sk-estimator:hover label.sk-toggleable__label-arrow:before {color: black;}#sk-container-id-1 div.sk-toggleable__content {max-height: 0;max-width: 0;overflow: hidden;text-align: left;background-color: #f0f8ff;}#sk-container-id-1 div.sk-toggleable__content pre {margin: 0.2em;color: black;border-radius: 0.25em;background-color: #f0f8ff;}#sk-container-id-1 input.sk-toggleable__control:checked~div.sk-toggleable__content {max-height: 200px;max-width: 100%;overflow: auto;}#sk-container-id-1 input.sk-toggleable__control:checked~label.sk-toggleable__label-arrow:before {content: \"▾\";}#sk-container-id-1 div.sk-estimator input.sk-toggleable__control:checked~label.sk-toggleable__label {background-color: #d4ebff;}#sk-container-id-1 div.sk-label input.sk-toggleable__control:checked~label.sk-toggleable__label {background-color: #d4ebff;}#sk-container-id-1 input.sk-hidden--visually {border: 0;clip: rect(1px 1px 1px 1px);clip: rect(1px, 1px, 1px, 1px);height: 1px;margin: -1px;overflow: hidden;padding: 0;position: absolute;width: 1px;}#sk-container-id-1 div.sk-estimator {font-family: monospace;background-color: #f0f8ff;border: 1px dotted black;border-radius: 0.25em;box-sizing: border-box;margin-bottom: 0.5em;}#sk-container-id-1 div.sk-estimator:hover {background-color: #d4ebff;}#sk-container-id-1 div.sk-parallel-item::after {content: \"\";width: 100%;border-bottom: 1px solid gray;flex-grow: 1;}#sk-container-id-1 div.sk-label:hover label.sk-toggleable__label {background-color: #d4ebff;}#sk-container-id-1 div.sk-serial::before {content: \"\";position: absolute;border-left: 1px solid gray;box-sizing: border-box;top: 0;bottom: 0;left: 50%;z-index: 0;}#sk-container-id-1 div.sk-serial {display: flex;flex-direction: column;align-items: center;background-color: white;padding-right: 0.2em;padding-left: 0.2em;position: relative;}#sk-container-id-1 div.sk-item {position: relative;z-index: 1;}#sk-container-id-1 div.sk-parallel {display: flex;align-items: stretch;justify-content: center;background-color: white;position: relative;}#sk-container-id-1 div.sk-item::before, #sk-container-id-1 div.sk-parallel-item::before {content: \"\";position: absolute;border-left: 1px solid gray;box-sizing: border-box;top: 0;bottom: 0;left: 50%;z-index: -1;}#sk-container-id-1 div.sk-parallel-item {display: flex;flex-direction: column;z-index: 1;position: relative;background-color: white;}#sk-container-id-1 div.sk-parallel-item:first-child::after {align-self: flex-end;width: 50%;}#sk-container-id-1 div.sk-parallel-item:last-child::after {align-self: flex-start;width: 50%;}#sk-container-id-1 div.sk-parallel-item:only-child::after {width: 0;}#sk-container-id-1 div.sk-dashed-wrapped {border: 1px dashed gray;margin: 0 0.4em 0.5em 0.4em;box-sizing: border-box;padding-bottom: 0.4em;background-color: white;}#sk-container-id-1 div.sk-label label {font-family: monospace;font-weight: bold;display: inline-block;line-height: 1.2em;}#sk-container-id-1 div.sk-label-container {text-align: center;}#sk-container-id-1 div.sk-container {/* jupyter's `normalize.less` sets `[hidden] { display: none; }` but bootstrap.min.css set `[hidden] { display: none !important; }` so we also need the `!important` here to be able to override the default hidden behavior on the sphinx rendered scikit-learn.org. See: https://github.com/scikit-learn/scikit-learn/issues/21755 */display: inline-block !important;position: relative;}#sk-container-id-1 div.sk-text-repr-fallback {display: none;}</style><div id=\"sk-container-id-1\" class=\"sk-top-container\"><div class=\"sk-text-repr-fallback\"><pre>LogisticRegression()</pre><b>In a Jupyter environment, please rerun this cell to show the HTML representation or trust the notebook. <br />On GitHub, the HTML representation is unable to render, please try loading this page with nbviewer.org.</b></div><div class=\"sk-container\" hidden><div class=\"sk-item\"><div class=\"sk-estimator sk-toggleable\"><input class=\"sk-toggleable__control sk-hidden--visually\" id=\"sk-estimator-id-1\" type=\"checkbox\" checked><label for=\"sk-estimator-id-1\" class=\"sk-toggleable__label sk-toggleable__label-arrow\">LogisticRegression</label><div class=\"sk-toggleable__content\"><pre>LogisticRegression()</pre></div></div></div></div></div>"
      ],
      "text/plain": [
       "LogisticRegression()"
      ]
     },
     "execution_count": 18,
     "metadata": {},
     "output_type": "execute_result"
    }
   ],
   "source": [
    "X_train, X_test, y_train, y_test = train_test_split(df_seas, y_label_seas, test_size=0.33)\n",
    "\n",
    "scaler_test_seas = StandardScaler()\n",
    "X_train = scaler_test_seas.fit_transform(X_train)\n",
    "\n",
    "log_mod_seas = LogisticRegression(penalty='l2')\n",
    "log_mod_seas.fit(X_train, y_train)"
   ]
  },
  {
   "cell_type": "code",
   "execution_count": 19,
   "id": "0386e99c-3816-4c0b-9fd6-90ec3042050b",
   "metadata": {},
   "outputs": [
    {
     "data": {
      "text/plain": [
       "0.770024960290447"
      ]
     },
     "execution_count": 19,
     "metadata": {},
     "output_type": "execute_result"
    }
   ],
   "source": [
    "X_test = scaler_test_seas.transform(X_test)\n",
    "\n",
    "log_mod_seas.score(X_test, y_test)"
   ]
  },
  {
   "cell_type": "code",
   "execution_count": 20,
   "id": "32a8508d-b6ed-4a82-9139-6a37ba2564c8",
   "metadata": {},
   "outputs": [
    {
     "data": {
      "text/plain": [
       "0.8470186250031004"
      ]
     },
     "execution_count": 20,
     "metadata": {},
     "output_type": "execute_result"
    }
   ],
   "source": [
    "predicted = log_mod_seas.predict_proba(X_test)[:,1]\n",
    "\n",
    "roc_auc_score(y_test, predicted)"
   ]
  },
  {
   "cell_type": "markdown",
   "id": "94a7c174-7191-4077-b934-3ac9f29e72c6",
   "metadata": {},
   "source": [
    "# CREATING LOGISTIC MODELS"
   ]
  },
  {
   "cell_type": "markdown",
   "id": "bdd702ae-d3b5-48be-a96b-a9ee8e5b973e",
   "metadata": {},
   "source": [
    "### XYZ VACCINE"
   ]
  },
  {
   "cell_type": "code",
   "execution_count": 23,
   "id": "d98e1d38-9b56-4356-ac01-39a7c8273821",
   "metadata": {},
   "outputs": [
    {
     "data": {
      "text/html": [
       "<style>#sk-container-id-2 {color: black;background-color: white;}#sk-container-id-2 pre{padding: 0;}#sk-container-id-2 div.sk-toggleable {background-color: white;}#sk-container-id-2 label.sk-toggleable__label {cursor: pointer;display: block;width: 100%;margin-bottom: 0;padding: 0.3em;box-sizing: border-box;text-align: center;}#sk-container-id-2 label.sk-toggleable__label-arrow:before {content: \"▸\";float: left;margin-right: 0.25em;color: #696969;}#sk-container-id-2 label.sk-toggleable__label-arrow:hover:before {color: black;}#sk-container-id-2 div.sk-estimator:hover label.sk-toggleable__label-arrow:before {color: black;}#sk-container-id-2 div.sk-toggleable__content {max-height: 0;max-width: 0;overflow: hidden;text-align: left;background-color: #f0f8ff;}#sk-container-id-2 div.sk-toggleable__content pre {margin: 0.2em;color: black;border-radius: 0.25em;background-color: #f0f8ff;}#sk-container-id-2 input.sk-toggleable__control:checked~div.sk-toggleable__content {max-height: 200px;max-width: 100%;overflow: auto;}#sk-container-id-2 input.sk-toggleable__control:checked~label.sk-toggleable__label-arrow:before {content: \"▾\";}#sk-container-id-2 div.sk-estimator input.sk-toggleable__control:checked~label.sk-toggleable__label {background-color: #d4ebff;}#sk-container-id-2 div.sk-label input.sk-toggleable__control:checked~label.sk-toggleable__label {background-color: #d4ebff;}#sk-container-id-2 input.sk-hidden--visually {border: 0;clip: rect(1px 1px 1px 1px);clip: rect(1px, 1px, 1px, 1px);height: 1px;margin: -1px;overflow: hidden;padding: 0;position: absolute;width: 1px;}#sk-container-id-2 div.sk-estimator {font-family: monospace;background-color: #f0f8ff;border: 1px dotted black;border-radius: 0.25em;box-sizing: border-box;margin-bottom: 0.5em;}#sk-container-id-2 div.sk-estimator:hover {background-color: #d4ebff;}#sk-container-id-2 div.sk-parallel-item::after {content: \"\";width: 100%;border-bottom: 1px solid gray;flex-grow: 1;}#sk-container-id-2 div.sk-label:hover label.sk-toggleable__label {background-color: #d4ebff;}#sk-container-id-2 div.sk-serial::before {content: \"\";position: absolute;border-left: 1px solid gray;box-sizing: border-box;top: 0;bottom: 0;left: 50%;z-index: 0;}#sk-container-id-2 div.sk-serial {display: flex;flex-direction: column;align-items: center;background-color: white;padding-right: 0.2em;padding-left: 0.2em;position: relative;}#sk-container-id-2 div.sk-item {position: relative;z-index: 1;}#sk-container-id-2 div.sk-parallel {display: flex;align-items: stretch;justify-content: center;background-color: white;position: relative;}#sk-container-id-2 div.sk-item::before, #sk-container-id-2 div.sk-parallel-item::before {content: \"\";position: absolute;border-left: 1px solid gray;box-sizing: border-box;top: 0;bottom: 0;left: 50%;z-index: -1;}#sk-container-id-2 div.sk-parallel-item {display: flex;flex-direction: column;z-index: 1;position: relative;background-color: white;}#sk-container-id-2 div.sk-parallel-item:first-child::after {align-self: flex-end;width: 50%;}#sk-container-id-2 div.sk-parallel-item:last-child::after {align-self: flex-start;width: 50%;}#sk-container-id-2 div.sk-parallel-item:only-child::after {width: 0;}#sk-container-id-2 div.sk-dashed-wrapped {border: 1px dashed gray;margin: 0 0.4em 0.5em 0.4em;box-sizing: border-box;padding-bottom: 0.4em;background-color: white;}#sk-container-id-2 div.sk-label label {font-family: monospace;font-weight: bold;display: inline-block;line-height: 1.2em;}#sk-container-id-2 div.sk-label-container {text-align: center;}#sk-container-id-2 div.sk-container {/* jupyter's `normalize.less` sets `[hidden] { display: none; }` but bootstrap.min.css set `[hidden] { display: none !important; }` so we also need the `!important` here to be able to override the default hidden behavior on the sphinx rendered scikit-learn.org. See: https://github.com/scikit-learn/scikit-learn/issues/21755 */display: inline-block !important;position: relative;}#sk-container-id-2 div.sk-text-repr-fallback {display: none;}</style><div id=\"sk-container-id-2\" class=\"sk-top-container\"><div class=\"sk-text-repr-fallback\"><pre>LogisticRegression()</pre><b>In a Jupyter environment, please rerun this cell to show the HTML representation or trust the notebook. <br />On GitHub, the HTML representation is unable to render, please try loading this page with nbviewer.org.</b></div><div class=\"sk-container\" hidden><div class=\"sk-item\"><div class=\"sk-estimator sk-toggleable\"><input class=\"sk-toggleable__control sk-hidden--visually\" id=\"sk-estimator-id-2\" type=\"checkbox\" checked><label for=\"sk-estimator-id-2\" class=\"sk-toggleable__label sk-toggleable__label-arrow\">LogisticRegression</label><div class=\"sk-toggleable__content\"><pre>LogisticRegression()</pre></div></div></div></div></div>"
      ],
      "text/plain": [
       "LogisticRegression()"
      ]
     },
     "execution_count": 23,
     "metadata": {},
     "output_type": "execute_result"
    }
   ],
   "source": [
    "scaler_xyz = StandardScaler()\n",
    "df_xyz = scaler_xyz.fit_transform(df_xyz)\n",
    "\n",
    "logisticModel_xyz = LogisticRegression(penalty='l2')\n",
    "logisticModel_xyz.fit(df_xyz, y_label_xyz)"
   ]
  },
  {
   "cell_type": "code",
   "execution_count": 24,
   "id": "1da05fbc-020b-4259-a620-67ef25876ab1",
   "metadata": {},
   "outputs": [],
   "source": [
    "target_xyz = scaler_xyz.transform(target_xyz)\n",
    "xyz_vaccine = logisticModel_xyz.predict_proba(target_xyz)[:,1]"
   ]
  },
  {
   "cell_type": "markdown",
   "id": "f53baf02-11eb-46d6-8b35-1a10d5d5b5c9",
   "metadata": {},
   "source": [
    "### SEASONAL VACCINE"
   ]
  },
  {
   "cell_type": "code",
   "execution_count": 26,
   "id": "aa034578-f932-485f-9e21-4988c5cabe5a",
   "metadata": {},
   "outputs": [
    {
     "data": {
      "text/html": [
       "<style>#sk-container-id-3 {color: black;background-color: white;}#sk-container-id-3 pre{padding: 0;}#sk-container-id-3 div.sk-toggleable {background-color: white;}#sk-container-id-3 label.sk-toggleable__label {cursor: pointer;display: block;width: 100%;margin-bottom: 0;padding: 0.3em;box-sizing: border-box;text-align: center;}#sk-container-id-3 label.sk-toggleable__label-arrow:before {content: \"▸\";float: left;margin-right: 0.25em;color: #696969;}#sk-container-id-3 label.sk-toggleable__label-arrow:hover:before {color: black;}#sk-container-id-3 div.sk-estimator:hover label.sk-toggleable__label-arrow:before {color: black;}#sk-container-id-3 div.sk-toggleable__content {max-height: 0;max-width: 0;overflow: hidden;text-align: left;background-color: #f0f8ff;}#sk-container-id-3 div.sk-toggleable__content pre {margin: 0.2em;color: black;border-radius: 0.25em;background-color: #f0f8ff;}#sk-container-id-3 input.sk-toggleable__control:checked~div.sk-toggleable__content {max-height: 200px;max-width: 100%;overflow: auto;}#sk-container-id-3 input.sk-toggleable__control:checked~label.sk-toggleable__label-arrow:before {content: \"▾\";}#sk-container-id-3 div.sk-estimator input.sk-toggleable__control:checked~label.sk-toggleable__label {background-color: #d4ebff;}#sk-container-id-3 div.sk-label input.sk-toggleable__control:checked~label.sk-toggleable__label {background-color: #d4ebff;}#sk-container-id-3 input.sk-hidden--visually {border: 0;clip: rect(1px 1px 1px 1px);clip: rect(1px, 1px, 1px, 1px);height: 1px;margin: -1px;overflow: hidden;padding: 0;position: absolute;width: 1px;}#sk-container-id-3 div.sk-estimator {font-family: monospace;background-color: #f0f8ff;border: 1px dotted black;border-radius: 0.25em;box-sizing: border-box;margin-bottom: 0.5em;}#sk-container-id-3 div.sk-estimator:hover {background-color: #d4ebff;}#sk-container-id-3 div.sk-parallel-item::after {content: \"\";width: 100%;border-bottom: 1px solid gray;flex-grow: 1;}#sk-container-id-3 div.sk-label:hover label.sk-toggleable__label {background-color: #d4ebff;}#sk-container-id-3 div.sk-serial::before {content: \"\";position: absolute;border-left: 1px solid gray;box-sizing: border-box;top: 0;bottom: 0;left: 50%;z-index: 0;}#sk-container-id-3 div.sk-serial {display: flex;flex-direction: column;align-items: center;background-color: white;padding-right: 0.2em;padding-left: 0.2em;position: relative;}#sk-container-id-3 div.sk-item {position: relative;z-index: 1;}#sk-container-id-3 div.sk-parallel {display: flex;align-items: stretch;justify-content: center;background-color: white;position: relative;}#sk-container-id-3 div.sk-item::before, #sk-container-id-3 div.sk-parallel-item::before {content: \"\";position: absolute;border-left: 1px solid gray;box-sizing: border-box;top: 0;bottom: 0;left: 50%;z-index: -1;}#sk-container-id-3 div.sk-parallel-item {display: flex;flex-direction: column;z-index: 1;position: relative;background-color: white;}#sk-container-id-3 div.sk-parallel-item:first-child::after {align-self: flex-end;width: 50%;}#sk-container-id-3 div.sk-parallel-item:last-child::after {align-self: flex-start;width: 50%;}#sk-container-id-3 div.sk-parallel-item:only-child::after {width: 0;}#sk-container-id-3 div.sk-dashed-wrapped {border: 1px dashed gray;margin: 0 0.4em 0.5em 0.4em;box-sizing: border-box;padding-bottom: 0.4em;background-color: white;}#sk-container-id-3 div.sk-label label {font-family: monospace;font-weight: bold;display: inline-block;line-height: 1.2em;}#sk-container-id-3 div.sk-label-container {text-align: center;}#sk-container-id-3 div.sk-container {/* jupyter's `normalize.less` sets `[hidden] { display: none; }` but bootstrap.min.css set `[hidden] { display: none !important; }` so we also need the `!important` here to be able to override the default hidden behavior on the sphinx rendered scikit-learn.org. See: https://github.com/scikit-learn/scikit-learn/issues/21755 */display: inline-block !important;position: relative;}#sk-container-id-3 div.sk-text-repr-fallback {display: none;}</style><div id=\"sk-container-id-3\" class=\"sk-top-container\"><div class=\"sk-text-repr-fallback\"><pre>LogisticRegression()</pre><b>In a Jupyter environment, please rerun this cell to show the HTML representation or trust the notebook. <br />On GitHub, the HTML representation is unable to render, please try loading this page with nbviewer.org.</b></div><div class=\"sk-container\" hidden><div class=\"sk-item\"><div class=\"sk-estimator sk-toggleable\"><input class=\"sk-toggleable__control sk-hidden--visually\" id=\"sk-estimator-id-3\" type=\"checkbox\" checked><label for=\"sk-estimator-id-3\" class=\"sk-toggleable__label sk-toggleable__label-arrow\">LogisticRegression</label><div class=\"sk-toggleable__content\"><pre>LogisticRegression()</pre></div></div></div></div></div>"
      ],
      "text/plain": [
       "LogisticRegression()"
      ]
     },
     "execution_count": 26,
     "metadata": {},
     "output_type": "execute_result"
    }
   ],
   "source": [
    "scaler_seas = StandardScaler()\n",
    "df_seas = scaler_seas.fit_transform(df_seas)\n",
    "\n",
    "logisticModel_seas = LogisticRegression(penalty='l2')\n",
    "logisticModel_seas.fit(df_seas, y_label_seas)"
   ]
  },
  {
   "cell_type": "code",
   "execution_count": 27,
   "id": "720daa91-db1a-4dd0-ac50-9fea5be36336",
   "metadata": {},
   "outputs": [],
   "source": [
    "target_seas = scaler_seas.transform(target_seas)\n",
    "seasonal_vaccine = logisticModel_seas.predict_proba(target_seas)[:,1]"
   ]
  },
  {
   "cell_type": "markdown",
   "id": "f723ab4a-fbde-4224-a14c-de6a4bc60fad",
   "metadata": {},
   "source": [
    "## CREATING OUTPUT DATAFRAME"
   ]
  },
  {
   "cell_type": "code",
   "execution_count": 29,
   "id": "1985056d-153c-4006-a74b-ffef18d7bf61",
   "metadata": {},
   "outputs": [],
   "source": [
    "respondent = pd.read_csv('Dataset/test_set_features.csv')\n",
    "respondent = respondent.respondent_id\n",
    "\n",
    "dict = {'respondent_id':respondent, 'xyz_vaccine':xyz_vaccine, 'seasonal_vaccine':seasonal_vaccine}\n",
    "result = pd.DataFrame(dict)"
   ]
  },
  {
   "cell_type": "code",
   "execution_count": 30,
   "id": "4ec93c9f-b65a-4e9a-bb7b-6357651a4cba",
   "metadata": {},
   "outputs": [],
   "source": [
    "result.to_csv('result.csv', index=False)"
   ]
  }
 ],
 "metadata": {
  "kernelspec": {
   "display_name": "Python 3 (ipykernel)",
   "language": "python",
   "name": "python3"
  },
  "language_info": {
   "codemirror_mode": {
    "name": "ipython",
    "version": 3
   },
   "file_extension": ".py",
   "mimetype": "text/x-python",
   "name": "python",
   "nbconvert_exporter": "python",
   "pygments_lexer": "ipython3",
   "version": "3.11.0"
  }
 },
 "nbformat": 4,
 "nbformat_minor": 5
}
